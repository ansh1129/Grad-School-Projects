{
 "cells": [
  {
   "cell_type": "markdown",
   "metadata": {},
   "source": [
    "# Numerical Data - Cleanup\n",
    "\n",
    "<br>\n",
    "**Author** Mary Letey <br>\n",
    "**Date** 4/16/18 <br>\n",
    "**File** megaset.ipynb <br>\n",
    "**Purpose** Creating a mega-dataset aggregating all previous data sets, sorted by date for the last 5 years\n",
    "\n",
    "<br><br>"
   ]
  },
  {
   "cell_type": "code",
   "execution_count": 35,
   "metadata": {},
   "outputs": [],
   "source": [
    "# Imports\n",
    "import numpy as np\n",
    "import pandas as pd\n",
    "import datetime\n",
    "from dateutil import parser\n",
    "import matplotlib.pylab as plt\n",
    "%matplotlib inline"
   ]
  },
  {
   "cell_type": "code",
   "execution_count": 115,
   "metadata": {},
   "outputs": [],
   "source": [
    "# -- dell seeking alpha\n",
    "df = pd.read_csv(\"../data/scraper/dell_5yrs_seekingalpha.csv\");\n",
    "dates = list(df[\"date\"]);\n",
    "\n",
    "newdelldates = []\n",
    "for i in range(0,len(dates)):\n",
    "    mystr = dates[i]\n",
    "    newdelldates.append(parser.parse(mystr))\n",
    "    \n",
    "delldates1 = newdelldates;\n",
    "\n",
    "\n",
    "dftotal = df;\n",
    "dftotal[\"date\"] = delldates1;\n"
   ]
  },
  {
   "cell_type": "code",
   "execution_count": 111,
   "metadata": {},
   "outputs": [
    {
     "data": {
      "text/html": [
       "<div>\n",
       "<style scoped>\n",
       "    .dataframe tbody tr th:only-of-type {\n",
       "        vertical-align: middle;\n",
       "    }\n",
       "\n",
       "    .dataframe tbody tr th {\n",
       "        vertical-align: top;\n",
       "    }\n",
       "\n",
       "    .dataframe thead th {\n",
       "        text-align: right;\n",
       "    }\n",
       "</style>\n",
       "<table border=\"1\" class=\"dataframe\">\n",
       "  <thead>\n",
       "    <tr style=\"text-align: right;\">\n",
       "      <th></th>\n",
       "      <th>title</th>\n",
       "      <th>date</th>\n",
       "      <th>body</th>\n",
       "    </tr>\n",
       "  </thead>\n",
       "  <tbody>\n",
       "    <tr>\n",
       "      <th>0</th>\n",
       "      <td>Dude, You're Not Getting DELL...Or AUTO</td>\n",
       "      <td>2013-03-18 00:00:00</td>\n",
       "      <td>(At Least Not At These Prices)Despite differen...</td>\n",
       "    </tr>\n",
       "    <tr>\n",
       "      <th>1</th>\n",
       "      <td>Critical Analysis Of Dell Buyout Plan Shows Hi...</td>\n",
       "      <td>2013-03-14 00:00:00</td>\n",
       "      <td>The media is currently focused on the saga of ...</td>\n",
       "    </tr>\n",
       "    <tr>\n",
       "      <th>2</th>\n",
       "      <td>The Value Of Dell Using The EBIT Multiple Valu...</td>\n",
       "      <td>2013-03-14 00:00:00</td>\n",
       "      <td>Let me go through a EBIT multiple valuation me...</td>\n",
       "    </tr>\n",
       "    <tr>\n",
       "      <th>3</th>\n",
       "      <td>Dell LBO Deal Structure - Like Buying A Rental...</td>\n",
       "      <td>2018-02-07 00:00:00</td>\n",
       "      <td>Henry Blodget is pulling on exactly the right ...</td>\n",
       "    </tr>\n",
       "    <tr>\n",
       "      <th>4</th>\n",
       "      <td>Billionaire Carl Icahn Moving Into Multilevel-...</td>\n",
       "      <td>2013-03-12 08:55:00</td>\n",
       "      <td>In the view of many investors, billionaire Car...</td>\n",
       "    </tr>\n",
       "  </tbody>\n",
       "</table>\n",
       "</div>"
      ],
      "text/plain": [
       "                                               title                date  \\\n",
       "0            Dude, You're Not Getting DELL...Or AUTO 2013-03-18 00:00:00   \n",
       "1  Critical Analysis Of Dell Buyout Plan Shows Hi... 2013-03-14 00:00:00   \n",
       "2  The Value Of Dell Using The EBIT Multiple Valu... 2013-03-14 00:00:00   \n",
       "3  Dell LBO Deal Structure - Like Buying A Rental... 2018-02-07 00:00:00   \n",
       "4  Billionaire Carl Icahn Moving Into Multilevel-... 2013-03-12 08:55:00   \n",
       "\n",
       "                                                body  \n",
       "0  (At Least Not At These Prices)Despite differen...  \n",
       "1  The media is currently focused on the saga of ...  \n",
       "2  Let me go through a EBIT multiple valuation me...  \n",
       "3  Henry Blodget is pulling on exactly the right ...  \n",
       "4  In the view of many investors, billionaire Car...  "
      ]
     },
     "execution_count": 111,
     "metadata": {},
     "output_type": "execute_result"
    }
   ],
   "source": [
    "df.head()"
   ]
  },
  {
   "cell_type": "code",
   "execution_count": 91,
   "metadata": {},
   "outputs": [
    {
     "name": "stdout",
     "output_type": "stream",
     "text": [
      "Total =  9\n",
      "[1, 2, 3, 4, 5, 6, 7, 8, 9]\n",
      "i= 0\n",
      "we have vistited 1 elements\n",
      "[1, 2, 3, 4, 5, 6, 7, 8, 9]\n",
      "i= 1\n",
      "we have vistited 2 elements\n",
      "[1, 2, 3, 4, 5, 6, 7, 8, 9]\n",
      "i= 2\n",
      "we have vistited 3 elements\n",
      "[1, 2, 4, 5, 6, 7, 8, 9]\n",
      "i= 3\n",
      "we have vistited 4 elements\n",
      "[1, 2, 4, 5, 6, 7, 8, 9]\n",
      "i= 4\n",
      "we have vistited 5 elements\n",
      "[1, 2, 4, 5, 7, 8, 9]\n",
      "i= 5\n",
      "we have vistited 6 elements\n",
      "[1, 2, 4, 5, 7, 8, 9]\n",
      "i= 6\n",
      "we have vistited 7 elements\n",
      "[1, 2, 4, 5, 7, 8]\n"
     ]
    }
   ],
   "source": [
    "a = [1,2,3,4,5,6,7,8,9]\n",
    "\n",
    "visited = 0\n",
    "index = 0\n",
    "l = len(a)\n",
    "print(\"Total = \",l)\n",
    "while visited < l-(3-1):\n",
    "    print(a)\n",
    "    print(\"i=\",index)\n",
    "    if a[index]%3 == 0:\n",
    "        del a[index]\n",
    "#         index -= 1\n",
    "    index += 1\n",
    "    visited += 1\n",
    "    print(\"we have vistited\",visited,\"elements\")\n",
    "\n",
    "print(a)\n",
    "    \n",
    "    \n"
   ]
  },
  {
   "cell_type": "code",
   "execution_count": null,
   "metadata": {},
   "outputs": [],
   "source": []
  }
 ],
 "metadata": {
  "kernelspec": {
   "display_name": "Python 3",
   "language": "python",
   "name": "python3"
  },
  "language_info": {
   "codemirror_mode": {
    "name": "ipython",
    "version": 3
   },
   "file_extension": ".py",
   "mimetype": "text/x-python",
   "name": "python",
   "nbconvert_exporter": "python",
   "pygments_lexer": "ipython3",
   "version": "3.6.4"
  }
 },
 "nbformat": 4,
 "nbformat_minor": 2
}
