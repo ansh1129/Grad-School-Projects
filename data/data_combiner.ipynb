{
 "cells": [
  {
   "cell_type": "code",
   "execution_count": 51,
   "metadata": {
    "collapsed": true
   },
   "outputs": [],
   "source": [
    "# imports\n",
    "import pandas as pd\n",
    "import numpy as np\n",
    "import datetime\n",
    "from dateutil import parser"
   ]
  },
  {
   "cell_type": "code",
   "execution_count": 13,
   "metadata": {
    "collapsed": false
   },
   "outputs": [],
   "source": [
    "# read all csvs into dataframes\n",
    "dell_df = pd.read_csv('./datafiles/numerical-initial/dell-data.csv')\n",
    "dow_df = pd.read_csv('./datafiles/numerical-initial/dow-data.csv')\n",
    "hp_df = pd.read_csv('./datafiles/numerical-initial/hp-data.csv')\n",
    "ibm_df = pd.read_csv('./datafiles/numerical-initial/ibm-data.csv')\n",
    "nasdaq_df = pd.read_csv('./datafiles/numerical-initial/nasdaq-data.csv')\n",
    "sandp500_df = pd.read_csv('./datafiles/numerical-initial/sandp500-data.csv')\n",
    "seagate_df = pd.read_csv('./datafiles/numerical-initial/seagate-data.csv')\n",
    "westdig_df = pd.read_csv('./datafiles/numerical-initial/westdig-data.csv')"
   ]
  },
  {
   "cell_type": "code",
   "execution_count": 14,
   "metadata": {
    "collapsed": false,
    "scrolled": true
   },
   "outputs": [],
   "source": [
    "# remove NaN rows\n",
    "dell_df = dell_df.dropna(axis = 0, how = 'all')\n",
    "dow_df = dell_df.dropna(axis = 0, how = 'all')\n",
    "hp_df = dell_df.dropna(axis = 0, how = 'all')\n",
    "ibm_df = dell_df.dropna(axis = 0, how = 'all')\n",
    "nasdaq_df = dell_df.dropna(axis = 0, how = 'all')\n",
    "sandp500_df = dell_df.dropna(axis = 0, how = 'all')\n",
    "seagate_df = dell_df.dropna(axis = 0, how = 'all')\n",
    "westdig_df = dell_df.dropna(axis = 0, how = 'all')"
   ]
  },
  {
   "cell_type": "code",
   "execution_count": 15,
   "metadata": {
    "collapsed": false
   },
   "outputs": [],
   "source": [
    "# function to convert volume o numerical\n",
    "def df_cleanup(df):\n",
    "    volumes = []\n",
    "    for volume_str in df['Volume']:\n",
    "        if volume_str.endswith('M'):\n",
    "            volume_num = float(volume_str[0:len(volume_str)-1])*(10**6)\n",
    "        elif volume_str.endswith('k'):\n",
    "            volume_num = float(volume_str[0:len(volume_str)-1])*(10**3)\n",
    "        volumes.append(volume_num)\n",
    "\n",
    "        \n",
    "    volume_df = pd.DataFrame({'Volume' : volumes})\n",
    "    df['Volume'] = volume_df['Volume']\n",
    "    df = df.drop(columns = ['SMAVG(15)'])\n",
    "    return df"
   ]
  },
  {
   "cell_type": "code",
   "execution_count": 62,
   "metadata": {
    "collapsed": false
   },
   "outputs": [
    {
     "ename": "AttributeError",
     "evalue": "'float' object has no attribute 'endswith'",
     "output_type": "error",
     "traceback": [
      "\u001b[0;31m---------------------------------------------------------------------------\u001b[0m",
      "\u001b[0;31mAttributeError\u001b[0m                            Traceback (most recent call last)",
      "\u001b[0;32m<ipython-input-62-d4eaa81e230c>\u001b[0m in \u001b[0;36m<module>\u001b[0;34m()\u001b[0m\n\u001b[0;32m----> 1\u001b[0;31m \u001b[0mdell_df\u001b[0m \u001b[0;34m=\u001b[0m \u001b[0mdf_cleanup\u001b[0m\u001b[0;34m(\u001b[0m\u001b[0mdell_df\u001b[0m\u001b[0;34m)\u001b[0m\u001b[0;34m\u001b[0m\u001b[0m\n\u001b[0m\u001b[1;32m      2\u001b[0m \u001b[0mhp_df\u001b[0m \u001b[0;34m=\u001b[0m \u001b[0mdf_cleanup\u001b[0m\u001b[0;34m(\u001b[0m\u001b[0mhp_df\u001b[0m\u001b[0;34m)\u001b[0m\u001b[0;34m\u001b[0m\u001b[0m\n\u001b[1;32m      3\u001b[0m \u001b[0mibm_df\u001b[0m \u001b[0;34m=\u001b[0m \u001b[0mdf_cleanup\u001b[0m\u001b[0;34m(\u001b[0m\u001b[0mibm_df\u001b[0m\u001b[0;34m)\u001b[0m\u001b[0;34m\u001b[0m\u001b[0m\n\u001b[1;32m      4\u001b[0m \u001b[0mseagate_df\u001b[0m \u001b[0;34m=\u001b[0m \u001b[0mdf_cleanup\u001b[0m\u001b[0;34m(\u001b[0m\u001b[0mseagate_df\u001b[0m\u001b[0;34m)\u001b[0m\u001b[0;34m\u001b[0m\u001b[0m\n\u001b[1;32m      5\u001b[0m \u001b[0mwestdig_df\u001b[0m \u001b[0;34m=\u001b[0m \u001b[0mdf_cleanup\u001b[0m\u001b[0;34m(\u001b[0m\u001b[0mwestdig_df\u001b[0m\u001b[0;34m)\u001b[0m\u001b[0;34m\u001b[0m\u001b[0m\n",
      "\u001b[0;32m<ipython-input-15-a9a1562909c6>\u001b[0m in \u001b[0;36mdf_cleanup\u001b[0;34m(df)\u001b[0m\n\u001b[1;32m      3\u001b[0m     \u001b[0mvolumes\u001b[0m \u001b[0;34m=\u001b[0m \u001b[0;34m[\u001b[0m\u001b[0;34m]\u001b[0m\u001b[0;34m\u001b[0m\u001b[0m\n\u001b[1;32m      4\u001b[0m     \u001b[0;32mfor\u001b[0m \u001b[0mvolume_str\u001b[0m \u001b[0;32min\u001b[0m \u001b[0mdf\u001b[0m\u001b[0;34m[\u001b[0m\u001b[0;34m'Volume'\u001b[0m\u001b[0;34m]\u001b[0m\u001b[0;34m:\u001b[0m\u001b[0;34m\u001b[0m\u001b[0m\n\u001b[0;32m----> 5\u001b[0;31m         \u001b[0;32mif\u001b[0m \u001b[0mvolume_str\u001b[0m\u001b[0;34m.\u001b[0m\u001b[0mendswith\u001b[0m\u001b[0;34m(\u001b[0m\u001b[0;34m'M'\u001b[0m\u001b[0;34m)\u001b[0m\u001b[0;34m:\u001b[0m\u001b[0;34m\u001b[0m\u001b[0m\n\u001b[0m\u001b[1;32m      6\u001b[0m             \u001b[0mvolume_num\u001b[0m \u001b[0;34m=\u001b[0m \u001b[0mfloat\u001b[0m\u001b[0;34m(\u001b[0m\u001b[0mvolume_str\u001b[0m\u001b[0;34m[\u001b[0m\u001b[0;36m0\u001b[0m\u001b[0;34m:\u001b[0m\u001b[0mlen\u001b[0m\u001b[0;34m(\u001b[0m\u001b[0mvolume_str\u001b[0m\u001b[0;34m)\u001b[0m\u001b[0;34m-\u001b[0m\u001b[0;36m1\u001b[0m\u001b[0;34m]\u001b[0m\u001b[0;34m)\u001b[0m\u001b[0;34m*\u001b[0m\u001b[0;34m(\u001b[0m\u001b[0;36m10\u001b[0m\u001b[0;34m**\u001b[0m\u001b[0;36m6\u001b[0m\u001b[0;34m)\u001b[0m\u001b[0;34m\u001b[0m\u001b[0m\n\u001b[1;32m      7\u001b[0m         \u001b[0;32melif\u001b[0m \u001b[0mvolume_str\u001b[0m\u001b[0;34m.\u001b[0m\u001b[0mendswith\u001b[0m\u001b[0;34m(\u001b[0m\u001b[0;34m'k'\u001b[0m\u001b[0;34m)\u001b[0m\u001b[0;34m:\u001b[0m\u001b[0;34m\u001b[0m\u001b[0m\n",
      "\u001b[0;31mAttributeError\u001b[0m: 'float' object has no attribute 'endswith'"
     ]
    }
   ],
   "source": [
    "dell_df = df_cleanup(dell_df)\n",
    "hp_df = df_cleanup(hp_df)\n",
    "ibm_df = df_cleanup(ibm_df)\n",
    "seagate_df = df_cleanup(seagate_df)\n",
    "westdig_df = df_cleanup(westdig_df)\n",
    "\n",
    "dow_df = df_cleanup(dow_df)\n",
    "nasdaq_df = df_cleanup(nasdaq_df)\n",
    "sandp500dig_df = df_cleanup(sandp500_df)"
   ]
  },
  {
   "cell_type": "code",
   "execution_count": 94,
   "metadata": {
    "collapsed": false
   },
   "outputs": [],
   "source": [
    "dell_wsj_df = pd.read_csv('./scraper/dell_5yrs_wsj.csv')"
   ]
  },
  {
   "cell_type": "code",
   "execution_count": 95,
   "metadata": {
    "collapsed": false
   },
   "outputs": [],
   "source": [
    "def cleanup_wsj(df):\n",
    "    df = df.drop([15,16])\n",
    "    new_dates = []\n",
    "    for date_str in df['date']:\n",
    "        new_date_str = date_str.replace('Updated ', '')\n",
    "        new_date_str = new_date_str.replace(' ET', '')\n",
    "        new_date_str = new_date_str.replace(' | WSJ Pro', '')\n",
    "        new_dates.append(parser.parse(new_date_str))\n",
    "#         new_dates.append(new_date_str)\n",
    "    date_df = pd.DataFrame({'date' : new_dates})\n",
    "    df['date'] = date_df['date']\n",
    "    \n",
    "    return df"
   ]
  },
  {
   "cell_type": "code",
   "execution_count": 96,
   "metadata": {
    "collapsed": false
   },
   "outputs": [],
   "source": [
    "dell_wsj_df = cleanup_wsj(dell_wsj_df)\n",
    "dell_wsj_df.to_csv('./data-cleanup/cleaned-dell-wsj.csv')"
   ]
  },
  {
   "cell_type": "code",
   "execution_count": null,
   "metadata": {
    "collapsed": true
   },
   "outputs": [],
   "source": []
  },
  {
   "cell_type": "code",
   "execution_count": null,
   "metadata": {
    "collapsed": true
   },
   "outputs": [],
   "source": []
  }
 ],
 "metadata": {
  "kernelspec": {
   "display_name": "Python 3",
   "language": "python",
   "name": "python3"
  },
  "language_info": {
   "codemirror_mode": {
    "name": "ipython",
    "version": 3
   },
   "file_extension": ".py",
   "mimetype": "text/x-python",
   "name": "python",
   "nbconvert_exporter": "python",
   "pygments_lexer": "ipython3",
   "version": "3.6.3"
  }
 },
 "nbformat": 4,
 "nbformat_minor": 2
}
